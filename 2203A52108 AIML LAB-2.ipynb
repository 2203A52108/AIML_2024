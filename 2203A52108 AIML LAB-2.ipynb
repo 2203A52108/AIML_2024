{
  "nbformat": 4,
  "nbformat_minor": 0,
  "metadata": {
    "colab": {
      "provenance": []
    },
    "kernelspec": {
      "name": "python3",
      "display_name": "Python 3"
    },
    "language_info": {
      "name": "python"
    }
  },
  "cells": [
    {
      "cell_type": "code",
      "source": [
        "from collections import deque\n",
        "\n",
        "graph = {\n",
        "    0:[1,3],\n",
        " 1: [0,2, 3],\n",
        " 2: [1,5,5],\n",
        " 3: [0,1,4],\n",
        " 4:[2,3,5],\n",
        " 5:[2,4]\n",
        "}\n",
        "\n",
        "def bfs(graph, start):\n",
        "    visited = set()\n",
        "    queue = deque()\n",
        "\n",
        "    queue.append(start)\n",
        "    visited.add(start)\n",
        "\n",
        "    while queue:\n",
        "        node = queue.popleft()\n",
        "        print(node, end=\" \")\n",
        "\n",
        "        for neighbor in graph[node]:\n",
        "            if neighbor not in visited:\n",
        "                queue.append(neighbor)\n",
        "                visited.add(neighbor)\n",
        "\n",
        "bfs(graph, 0)\n"
      ],
      "metadata": {
        "colab": {
          "base_uri": "https://localhost:8080/"
        },
        "id": "C2JTkXkPPkiM",
        "outputId": "53cdbdb6-76ff-462b-8168-7684651724bd"
      },
      "execution_count": 7,
      "outputs": [
        {
          "output_type": "stream",
          "name": "stdout",
          "text": [
            "0 1 3 2 4 5 "
          ]
        }
      ]
    },
    {
      "cell_type": "code",
      "source": [
        "def dfs(graph, start, visited=None):\n",
        "    if visited is None:\n",
        "        visited = set()\n",
        "\n",
        "    visited.add(start)\n",
        "    print(start)\n",
        "\n",
        "    for neighbor in graph[start]:\n",
        "        if neighbor not in visited:\n",
        "            dfs(graph, neighbor, visited)\n",
        "\n",
        "graph = {\n",
        "  'A':['B','S'],\n",
        "  'B':['A'],\n",
        "  'S':['A','C','G'],\n",
        "  'C':['D','E','F','S'],\n",
        "  'D':['C'],\n",
        "  'E':['C','H'],\n",
        "  'F':['C','G'],\n",
        "  'G':['S','F','H'],\n",
        "  'H':['E','G']\n",
        "\n",
        "\n",
        "}\n",
        "\n",
        "starting_vertex = 'A'\n",
        "\n",
        "dfs(graph, starting_vertex)\n"
      ],
      "metadata": {
        "colab": {
          "base_uri": "https://localhost:8080/"
        },
        "id": "kA9mrhDmU_1v",
        "outputId": "b5270234-40ea-4997-93a4-1d90a4516353"
      },
      "execution_count": 10,
      "outputs": [
        {
          "output_type": "stream",
          "name": "stdout",
          "text": [
            "A\n",
            "B\n",
            "S\n",
            "C\n",
            "D\n",
            "E\n",
            "H\n",
            "G\n",
            "F\n"
          ]
        }
      ]
    }
  ]
}